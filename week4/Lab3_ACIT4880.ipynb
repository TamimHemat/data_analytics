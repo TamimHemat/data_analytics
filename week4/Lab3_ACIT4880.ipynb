{
 "cells": [
  {
   "cell_type": "code",
   "execution_count": 3,
   "metadata": {},
   "outputs": [
    {
     "name": "stdout",
     "output_type": "stream",
     "text": [
      "0    10\n",
      "1    20\n",
      "2    30\n",
      "3    40\n",
      "4    50\n",
      "dtype: int32\n"
     ]
    }
   ],
   "source": [
    "import pandas, numpy\n",
    "arr = numpy.array([10, 20, 30, 40, 50])\n",
    "series = pandas.Series(arr)\n",
    "print (series)\n",
    "\n",
    "#The output of the above code is a series of numbers from 10 to 50"
   ]
  },
  {
   "cell_type": "code",
   "execution_count": 4,
   "metadata": {},
   "outputs": [
    {
     "name": "stdout",
     "output_type": "stream",
     "text": [
      "a    10\n",
      "b    20\n",
      "c    30\n",
      "dtype: int64\n"
     ]
    }
   ],
   "source": [
    "import pandas\n",
    "data = {'a': 10, 'b': 20, 'c': 30}\n",
    "series = pandas.Series(data)\n",
    "print (series)\n",
    "\n",
    "#The output of the above code is a series of numbers from 10 to 30 and the letters a, b, and c as the indices"
   ]
  },
  {
   "cell_type": "code",
   "execution_count": 5,
   "metadata": {},
   "outputs": [
    {
     "name": "stdout",
     "output_type": "stream",
     "text": [
      "1    20\n",
      "2    30\n",
      "3    40\n",
      "dtype: int64\n"
     ]
    }
   ],
   "source": [
    "import pandas\n",
    "s = pandas.Series([10, 20, 30, 40, 50])\n",
    "print (s[1:4])\n",
    "\n",
    "#The output of the above code is a series of numbers from 20 to 40. It's a slice of the original series."
   ]
  },
  {
   "cell_type": "code",
   "execution_count": 6,
   "metadata": {},
   "outputs": [
    {
     "name": "stdout",
     "output_type": "stream",
     "text": [
      "    0\n",
      "0  10\n",
      "1  20\n",
      "2  30\n",
      "3  40\n"
     ]
    }
   ],
   "source": [
    "import pandas\n",
    "listx = [10, 20, 30, 40]\n",
    "table = pandas.DataFrame(listx)\n",
    "print (table)\n",
    "\n",
    "#The output of the above code is a table with the numbers 10, 20, 30, and 40 in the first column."
   ]
  },
  {
   "cell_type": "code",
   "execution_count": 7,
   "metadata": {},
   "outputs": [
    {
     "name": "stdout",
     "output_type": "stream",
     "text": [
      "        a  b    c\n",
      "first   1  2  NaN\n",
      "second  2  4  8.0\n"
     ]
    }
   ],
   "source": [
    "import pandas\n",
    "data = [{'a': 1, 'b': 2}, {'a': 2, 'b':4, 'c':8}]\n",
    "table = pandas.DataFrame(data, index = ['first', 'second'])\n",
    "print (table)\n",
    "\n",
    "#The output of the above code is a table with the numbers 1 and 2 in the first column and \n",
    "#the numbers 2 and 4 in the second column. The first row is labeled first and the second row is labeled second.\n",
    "#There is also a third column with the number 8 and NaN for the first row."
   ]
  },
  {
   "cell_type": "code",
   "execution_count": 8,
   "metadata": {},
   "outputs": [
    {
     "name": "stdout",
     "output_type": "stream",
     "text": [
      "   one  two\n",
      "a  1.0    1\n",
      "b  2.0    2\n",
      "c  3.0    3\n",
      "d  NaN    4\n"
     ]
    }
   ],
   "source": [
    "import pandas\n",
    "data = {'one': pandas.Series([1, 2, 3], index = ['a', 'b', 'c']),\n",
    "'two': pandas.Series([1, 2, 3, 4], index = ['a', 'b', 'c', 'd'])}\n",
    "table = pandas.DataFrame(data)\n",
    "print(table)\n",
    "\n",
    "#The output of the above code is a table with the numbers 1, 2, and 3 in the first column and\n",
    "#the numbers 1, 2, 3, and 4 in the second column. The first column is labeled one and the second column is labeled two."
   ]
  },
  {
   "cell_type": "code",
   "execution_count": 9,
   "metadata": {},
   "outputs": [
    {
     "name": "stdout",
     "output_type": "stream",
     "text": [
      "   one  two  three\n",
      "a  1.0    1   10.0\n",
      "b  2.0    2   20.0\n",
      "c  3.0    3   30.0\n",
      "d  NaN    4    NaN\n"
     ]
    }
   ],
   "source": [
    "import pandas\n",
    "data = {'one': pandas.Series([1, 2, 3], index = ['a', 'b', 'c']),\n",
    "'two': pandas.Series([1, 2, 3, 4], index = ['a', 'b', 'c', 'd'])}\n",
    "table = pandas.DataFrame(data)\n",
    "table['three'] = pandas.Series([10, 20, 30], index = ['a', 'b', 'c'])\n",
    "print(table)\n",
    "\n",
    "#The output of the above code is a table with the numbers 1, 2, and 3 in the first column and\n",
    "#the numbers 1, 2, 3, and 4 in the second column. The first column is labeled one and the second column is labeled two.\n",
    "#The third column is labeled three and has the numbers 10, 20, and 30."
   ]
  },
  {
   "cell_type": "code",
   "execution_count": 10,
   "metadata": {},
   "outputs": [
    {
     "name": "stdout",
     "output_type": "stream",
     "text": [
      "   two  three\n",
      "a    1   10.0\n",
      "b    2   20.0\n",
      "c    3   30.0\n",
      "d    4    NaN\n"
     ]
    }
   ],
   "source": [
    "del table['one']\n",
    "print (table)\n",
    "\n",
    "#The code above will delete the column labeled one from the table."
   ]
  },
  {
   "cell_type": "code",
   "execution_count": 11,
   "metadata": {},
   "outputs": [
    {
     "name": "stdout",
     "output_type": "stream",
     "text": [
      "a    1\n",
      "b    2\n",
      "c    3\n",
      "d    4\n",
      "Name: two, dtype: int64\n",
      "   three\n",
      "a   10.0\n",
      "b   20.0\n",
      "c   30.0\n",
      "d    NaN\n"
     ]
    }
   ],
   "source": [
    "col = table.pop('two')\n",
    "print (col)\n",
    "print (table)\n",
    "\n",
    "#The code above will delete the column labeled two from the table and print the column labeled two.\n",
    "#Then it will print the table without the column labeled two."
   ]
  },
  {
   "cell_type": "code",
   "execution_count": 12,
   "metadata": {},
   "outputs": [
    {
     "name": "stdout",
     "output_type": "stream",
     "text": [
      "three    30.0\n",
      "Name: c, dtype: float64\n"
     ]
    }
   ],
   "source": [
    "print (table.loc['c'])\n",
    "\n",
    "#The code above will print the row labeled c from the table."
   ]
  },
  {
   "cell_type": "code",
   "execution_count": 13,
   "metadata": {},
   "outputs": [
    {
     "name": "stdout",
     "output_type": "stream",
     "text": [
      "three    30.0\n",
      "Name: c, dtype: float64\n"
     ]
    }
   ],
   "source": [
    "print (table.iloc[2])\n",
    "\n",
    "#The code above will print the third row from the table."
   ]
  },
  {
   "cell_type": "code",
   "execution_count": 14,
   "metadata": {},
   "outputs": [
    {
     "name": "stdout",
     "output_type": "stream",
     "text": [
      "      0  1\n",
      "row3  1  2\n",
      "row1  3  4\n",
      "row2  5  6\n"
     ]
    }
   ],
   "source": [
    "import pandas as pd\n",
    "a_row = pd.Series([1, 2])\n",
    "df = pd.DataFrame([[3, 4], [5, 6]], index = [\"row1\", \"row2\"])\n",
    "row_df = pd.DataFrame([a_row], index = [\"row3\"])\n",
    "df = pd.concat([row_df, df])\n",
    "print(df)\n",
    "\n",
    "#The code above will print a table with the numbers 1 and 2 in the first row and\n",
    "#the numbers 3, 4, 5, and 6 in the second and third rows. Then it will rename the first row to row3.\n",
    "#Lastly it concatenates the first row to the table (DataFrame)."
   ]
  },
  {
   "cell_type": "code",
   "execution_count": 15,
   "metadata": {},
   "outputs": [
    {
     "name": "stdout",
     "output_type": "stream",
     "text": [
      "Original DataFrame\n",
      "------------------\n",
      "   name  physics  chemistry  algebra\n",
      "0  Somu       68         84       78\n",
      "1  Kiku       74         56       88\n",
      "2  Amol       77         73       82\n",
      "3  Lini       78         69       87\n",
      "\n",
      "\n",
      "New row added to DataFrame\n",
      "--------------------------\n",
      "   name  physics  chemistry  algebra\n",
      "0  Somu       68         84       78\n",
      "1  Kiku       74         56       88\n",
      "2  Amol       77         73       82\n",
      "3  Lini       78         69       87\n",
      "4   Geo       87         92       97\n"
     ]
    },
    {
     "name": "stderr",
     "output_type": "stream",
     "text": [
      "C:\\Users\\tamim\\AppData\\Local\\Temp\\ipykernel_24072\\842192434.py:12: FutureWarning: The frame.append method is deprecated and will be removed from pandas in a future version. Use pandas.concat instead.\n",
      "  df_marks = df_marks.append(new_row, ignore_index=True)\n"
     ]
    }
   ],
   "source": [
    "import pandas as pd\n",
    "data = {'name': ['Somu', 'Kiku', 'Amol', 'Lini'],\n",
    "'physics': [68, 74, 77, 78],\n",
    "'chemistry': [84, 56, 73, 69],\n",
    "'algebra': [78, 88, 82, 87]}\n",
    "#create dataframe\n",
    "df_marks = pd.DataFrame(data)\n",
    "print('Original DataFrame\\n------------------')\n",
    "print(df_marks)\n",
    "new_row = {'name':'Geo', 'physics':87, 'chemistry':92, 'algebra':97}\n",
    "#append row to the dataframe\n",
    "df_marks = df_marks.append(new_row, ignore_index=True)\n",
    "print('\\n\\nNew row added to DataFrame\\n--------------------------')\n",
    "print(df_marks)\n",
    "\n",
    "#The code above will print a table with the names of the students and their marks in physics, chemistry, and algebra.\n",
    "#Then it will add a new row to the table with the name Geo and the marks 87, 92, and 97."
   ]
  },
  {
   "cell_type": "code",
   "execution_count": 31,
   "metadata": {},
   "outputs": [
    {
     "name": "stdout",
     "output_type": "stream",
     "text": [
      "0     62\n",
      "1     29\n",
      "2     55\n",
      "3     81\n",
      "4     42\n",
      "5     35\n",
      "6      3\n",
      "7      2\n",
      "8      7\n",
      "9     16\n",
      "10    76\n",
      "11    28\n",
      "12    57\n",
      "13    64\n",
      "14    14\n",
      "15    15\n",
      "16    11\n",
      "17    96\n",
      "18    94\n",
      "19    67\n",
      "20    28\n",
      "21    74\n",
      "22    95\n",
      "23    46\n",
      "24    50\n",
      "25    87\n",
      "26    36\n",
      "27     4\n",
      "28    27\n",
      "29     7\n",
      "30    56\n",
      "31    50\n",
      "32    60\n",
      "33    66\n",
      "34    75\n",
      "35    96\n",
      "36    90\n",
      "37    53\n",
      "38    32\n",
      "39    80\n",
      "40    60\n",
      "41     5\n",
      "42    90\n",
      "Name: Units, dtype: int64\n",
      "2121\n",
      "49.325581395348834\n",
      "['Mike' 'Sophie ' 'Tom ' 'Anne ' 'Jack ' 'Mike ' 'Header ' 'Bob ' 'Maria '\n",
      " 'Header' 'Rob' 'Diana ' 'Alex' 'Jack']\n",
      "   OrderDate   Region Sales Manager      Item  Units  Price\n",
      "0  04-Jul-18     East          Mike  Notebook     62   4.99\n",
      "2  21-Jul-18  Central          Tom   Notebook     55  12.49\n"
     ]
    }
   ],
   "source": [
    "#Load the sales manager data into a DataFrame\n",
    "\n",
    "df = pd.read_csv('SalesManager.csv')\n",
    "\n",
    "#Print the ‘Units’ Column, then print the sum and avg of the number of units sold\n",
    "print(df['Units'])\n",
    "\n",
    "print(df['Units'].sum())\n",
    "print(df['Units'].mean())\n",
    "\n",
    "#Print the names of the sales managers (without redundancy)\n",
    "print(df['Sales Manager'].unique())\n",
    "\n",
    "#Print the first and the third records in the data set\n",
    "print(df.iloc[[0,2]])\n",
    "\n",
    "#Add a new record to the data set\n",
    "new_row = {\"OrderDate\": \"03-Jun-2002\", \"Region\": \"East\",\n",
    "           \"Sales Manager\" : \"Tamim\",\n",
    "           \"Item\": \"Gaming PC\", \"Units\": 420, \"Price\": 7.99}\n",
    "\n",
    "df = pd.concat([df, pd.DataFrame([new_row])], ignore_index=True)\n",
    "\n",
    "#Delete the record that has the index 26\n",
    "df = df.drop(26)\n",
    "\n",
    "#Save the data set to a CSV file.\n",
    "df.to_csv('SalesManagerTamim.csv', index=False)"
   ]
  }
 ],
 "metadata": {
  "kernelspec": {
   "display_name": "virtual_environment",
   "language": "python",
   "name": "python3"
  },
  "language_info": {
   "codemirror_mode": {
    "name": "ipython",
    "version": 3
   },
   "file_extension": ".py",
   "mimetype": "text/x-python",
   "name": "python",
   "nbconvert_exporter": "python",
   "pygments_lexer": "ipython3",
   "version": "3.9.13"
  },
  "orig_nbformat": 4,
  "vscode": {
   "interpreter": {
    "hash": "b668242386753b7809a6f1a83a41a9c92ba5adc29d0e37b45d920dc1922a21b1"
   }
  }
 },
 "nbformat": 4,
 "nbformat_minor": 2
}
